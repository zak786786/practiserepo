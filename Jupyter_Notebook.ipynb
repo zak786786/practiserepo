{
 "cells": [
  {
   "cell_type": "markdown",
   "metadata": {},
   "source": [
    "<center>\n",
    "    <img src=\"https://cf-courses-data.s3.us.cloud-object-storage.appdomain.cloud/IBMDeveloperSkillsNetwork-DS0105EN-SkillsNetwork/labs/Module2/images/SN_web_lightmode.png\" width=\"300\" alt=\"cognitiveclass.ai logo\">\n",
    "</center>\n"
   ]
  },
  {
   "cell_type": "markdown",
   "metadata": {},
   "source": [
    "#### Add your code below following the instructions given in the course\n"
   ]
  },
  {
   "cell_type": "markdown",
   "metadata": {},
   "source": [
    "Title: Tools for Data Science Assessment"
   ]
  },
  {
   "cell_type": "markdown",
   "metadata": {},
   "source": [
    "Introduction\n",
    "\n",
    "This document is my submission for the assessment for the 'Tools for Data Science' module."
   ]
  },
  {
   "cell_type": "markdown",
   "metadata": {},
   "source": [
    "Data Science Languages include:\n",
    "- Python\n",
    "- R\n",
    "- SQL"
   ]
  },
  {
   "cell_type": "markdown",
   "metadata": {},
   "source": [
    "Data Science Libraries include: \n",
    "- NumPy\n",
    "- Pandas\n",
    "- ggplot2\n",
    "- MySQL"
   ]
  },
  {
   "cell_type": "markdown",
   "metadata": {},
   "source": [
    "| Data Science Tool | Examples |\n",
    "| ------ | ------ |\n",
    "| Data Management | MySQL, PostgreSQL, MongoDB |\n",
    "| Data Integration and Transformation | Apache Airflow, Apache Kafka, Apache Nifi |\n",
    "| Data Visualisation | Hue, Kibana, Apache Superset |\n",
    "| Model Deployment | Apache PredictionIO, TensorFlow, Apache SparkML, R, SciKit-Learn |\n",
    "| Model Monitoring and Assessment | ModelIDB, Prometheus, IBM AI Fairness 360 |\n",
    "| Code Asset Management | Github, Git, GitLab, BitBucket |\n",
    "| Development Environments | Jupyter Notebook, JupyterLab, Apache Zeppelin |\n",
    "| Execution Environments | Apache Spark, Apache Flink, Ray |\n",
    "| Fully Integrated Visual Tools | KNIME, Orange |"
   ]
  },
  {
   "cell_type": "markdown",
   "metadata": {},
   "source": [
    "2 + 2 = 4"
   ]
  },
  {
   "cell_type": "code",
   "execution_count": 12,
   "metadata": {},
   "outputs": [
    {
     "data": {
      "text/plain": [
       "17"
      ]
     },
     "execution_count": 12,
     "metadata": {},
     "output_type": "execute_result"
    }
   ],
   "source": [
    "(3*4)+5"
   ]
  },
  {
   "cell_type": "code",
   "execution_count": 11,
   "metadata": {},
   "outputs": [
    {
     "name": "stdout",
     "output_type": "stream",
     "text": [
      "240 minutes\n"
     ]
    }
   ],
   "source": [
    "hours = 4\n",
    "minutes = hours*60\n",
    "print(minutes, \"minutes\")"
   ]
  },
  {
   "cell_type": "markdown",
   "metadata": {},
   "source": [
    "The objects for this assessment are:\n",
    "\n",
    "Exercise 2 - Create a markdown cell with the title of the notebook. (1 pt)\n",
    "\n",
    "Exercise 3 - Create a markdown cell for an introduction. (1 pt)\n",
    "\n",
    "Exercise 4 - Create a markdown cell to list data science languages. (3 pts)\n",
    "\n",
    "Exercise 5 - Create a markdown cell to list data science libraries. (3 pts)\n",
    "\n",
    "Exercise 6 - Create a markdown cell with a table of Data Science tools. (3 pts)\n",
    "\n",
    "Exercise 7 - Create a markdown cell introducing arithmetic expression examples. (1 pt)\n",
    "\n",
    "Exercise 8 - Create a code cell to multiply and add numbers.(2 pts)\n",
    "\n",
    "Exercise 9 - Create a code cell to convert minutes to hours. (2 pts)\n",
    "\n",
    "Exercise 10 -Insert a markdown cell to list Objectives. (3 pts)\n",
    "\n",
    "Exercise 11 - Create a markdown cell to indicate the Author’s name. (2 pts)\n",
    "\n",
    "Exercise 12 - Share your notebook through GitHub (3 pts)\n",
    "\n",
    "Exercise 13 - Take a screenshot of the first page of the notebook. (1 pt)"
   ]
  },
  {
   "cell_type": "markdown",
   "metadata": {},
   "source": [
    "Author: Zakir Rashid"
   ]
  }
 ],
 "metadata": {
  "kernelspec": {
   "display_name": "Python",
   "language": "python",
   "name": "conda-env-python-py"
  },
  "language_info": {
   "codemirror_mode": {
    "name": "ipython",
    "version": 3
   },
   "file_extension": ".py",
   "mimetype": "text/x-python",
   "name": "python",
   "nbconvert_exporter": "python",
   "pygments_lexer": "ipython3",
   "version": "3.7.12"
  }
 },
 "nbformat": 4,
 "nbformat_minor": 4
}
